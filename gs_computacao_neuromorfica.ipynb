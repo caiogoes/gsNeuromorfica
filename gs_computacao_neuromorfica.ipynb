{
  "nbformat": 4,
  "nbformat_minor": 0,
  "metadata": {
    "colab": {
      "provenance": []
    },
    "kernelspec": {
      "name": "python3",
      "display_name": "Python 3"
    },
    "language_info": {
      "name": "python"
    }
  },
  "cells": [
    {
      "cell_type": "code",
      "execution_count": 10,
      "metadata": {
        "colab": {
          "base_uri": "https://localhost:8080/"
        },
        "id": "MWSaxQlGoOM_",
        "outputId": "61a25c84-9825-41c2-cf36-fce30788f7f3"
      },
      "outputs": [
        {
          "output_type": "stream",
          "name": "stdout",
          "text": [
            "Requirement already satisfied: flask in /usr/local/lib/python3.10/dist-packages (2.2.5)\n",
            "Requirement already satisfied: Werkzeug>=2.2.2 in /usr/local/lib/python3.10/dist-packages (from flask) (3.0.1)\n",
            "Requirement already satisfied: Jinja2>=3.0 in /usr/local/lib/python3.10/dist-packages (from flask) (3.1.2)\n",
            "Requirement already satisfied: itsdangerous>=2.0 in /usr/local/lib/python3.10/dist-packages (from flask) (2.1.2)\n",
            "Requirement already satisfied: click>=8.0 in /usr/local/lib/python3.10/dist-packages (from flask) (8.1.7)\n",
            "Requirement already satisfied: MarkupSafe>=2.0 in /usr/local/lib/python3.10/dist-packages (from Jinja2>=3.0->flask) (2.1.3)\n",
            "Requirement already satisfied: flask-ngrok in /usr/local/lib/python3.10/dist-packages (0.0.25)\n",
            "Requirement already satisfied: Flask>=0.8 in /usr/local/lib/python3.10/dist-packages (from flask-ngrok) (2.2.5)\n",
            "Requirement already satisfied: requests in /usr/local/lib/python3.10/dist-packages (from flask-ngrok) (2.31.0)\n",
            "Requirement already satisfied: Werkzeug>=2.2.2 in /usr/local/lib/python3.10/dist-packages (from Flask>=0.8->flask-ngrok) (3.0.1)\n",
            "Requirement already satisfied: Jinja2>=3.0 in /usr/local/lib/python3.10/dist-packages (from Flask>=0.8->flask-ngrok) (3.1.2)\n",
            "Requirement already satisfied: itsdangerous>=2.0 in /usr/local/lib/python3.10/dist-packages (from Flask>=0.8->flask-ngrok) (2.1.2)\n",
            "Requirement already satisfied: click>=8.0 in /usr/local/lib/python3.10/dist-packages (from Flask>=0.8->flask-ngrok) (8.1.7)\n",
            "Requirement already satisfied: charset-normalizer<4,>=2 in /usr/local/lib/python3.10/dist-packages (from requests->flask-ngrok) (3.3.2)\n",
            "Requirement already satisfied: idna<4,>=2.5 in /usr/local/lib/python3.10/dist-packages (from requests->flask-ngrok) (3.4)\n",
            "Requirement already satisfied: urllib3<3,>=1.21.1 in /usr/local/lib/python3.10/dist-packages (from requests->flask-ngrok) (2.0.7)\n",
            "Requirement already satisfied: certifi>=2017.4.17 in /usr/local/lib/python3.10/dist-packages (from requests->flask-ngrok) (2023.7.22)\n",
            "Requirement already satisfied: MarkupSafe>=2.0 in /usr/local/lib/python3.10/dist-packages (from Jinja2>=3.0->Flask>=0.8->flask-ngrok) (2.1.3)\n"
          ]
        }
      ],
      "source": [
        "!pip install flask\n",
        "!pip install flask-ngrok"
      ]
    },
    {
      "cell_type": "code",
      "source": [
        "import sqlite3\n",
        "import pandas as pd\n",
        "from flask import Flask, jsonify, request\n",
        "from flask_ngrok import run_with_ngrok\n",
        "from threading import Thread\n",
        "from concurrent.futures import ThreadPoolExecutor"
      ],
      "metadata": {
        "id": "OMbCbnZpApIg"
      },
      "execution_count": 13,
      "outputs": []
    },
    {
      "cell_type": "code",
      "source": [
        "db_path = '/content/drive/MyDrive/Colab Notebooks/COMPUTAÇÃO NEUROMÓRFICA/GS - 2/health.db'\n",
        "file_path = '/content/drive/MyDrive/Colab Notebooks/COMPUTAÇÃO NEUROMÓRFICA/GS - 2/Sleep_health_and_lifestyle_dataset.csv'"
      ],
      "metadata": {
        "id": "23jHSwrfDO9U"
      },
      "execution_count": 14,
      "outputs": []
    },
    {
      "cell_type": "code",
      "source": [
        "conn = sqlite3.connect(db_path)\n",
        "\n",
        "cursor = conn.cursor()\n",
        "\n",
        "cursor.execute('''\n",
        "    CREATE TABLE IF NOT EXISTS sleepHealth (\n",
        "        id INTEGER PRIMARY KEY,\n",
        "        gender VARCHAR,\n",
        "        age INTEGER,\n",
        "        occupation VARCHAR,\n",
        "        sleepDuration REAL,\n",
        "        qualitySleep INTEGER,\n",
        "        physicalActivityLevel INTEGER,\n",
        "        stressLevel INTEGER,\n",
        "        BMICategory VARCHAR,\n",
        "        bloodPressure VARCHAR,\n",
        "        heartRate INTEGER,\n",
        "        dailySteps INTEGER,\n",
        "        sleepDisorder VARCHAR\n",
        "    )\n",
        "''')"
      ],
      "metadata": {
        "colab": {
          "base_uri": "https://localhost:8080/"
        },
        "id": "vQL3Xg7s-aSQ",
        "outputId": "ddc32d0d-67e5-41f7-fc25-d410ac111f59"
      },
      "execution_count": 15,
      "outputs": [
        {
          "output_type": "execute_result",
          "data": {
            "text/plain": [
              "<sqlite3.Cursor at 0x788c5fe75740>"
            ]
          },
          "metadata": {},
          "execution_count": 15
        }
      ]
    },
    {
      "cell_type": "code",
      "source": [
        "def inserir_chunk(chunk):\n",
        "    conexao = sqlite3.connect(db_path)\n",
        "    cursor = conexao.cursor()\n",
        "\n",
        "    for indice, linha in chunk.iterrows():\n",
        "        valores = tuple(linha[1:])\n",
        "        cursor.execute('INSERT INTO sleepHealth (gender, age, occupation, sleepDuration, qualitySleep, physicalActivityLevel, stressLevel, BMICategory, bloodPressure, heartRate, dailySteps, sleepDisorder) VALUES (?, ?, ?, ?, ?, ?, ?, ?, ?, ?, ?, ?)', valores)\n",
        "\n",
        "    conexao.commit()\n",
        "    conexao.close()\n",
        "\n",
        "dados = pd.read_csv(file_path, sep=',', encoding='latin-1')\n",
        "\n",
        "chunk_size = 1000\n",
        "chunks = [dados[i:i + chunk_size] for i in range(0, len(dados), chunk_size)]\n",
        "\n",
        "# Inserir chunks em paralelo\n",
        "with ThreadPoolExecutor() as executor:\n",
        "    executor.map(inserir_chunk, chunks)"
      ],
      "metadata": {
        "id": "KRJnL2mzKLBy"
      },
      "execution_count": 16,
      "outputs": []
    },
    {
      "cell_type": "code",
      "source": [
        "app = Flask(__name__)\n",
        "\n",
        "run_with_ngrok(app)\n",
        "\n",
        "def getsleepHealth():\n",
        "  conn = sqlite3.connect(db_path)\n",
        "  cursor = conn.cursor()\n",
        "  cursor.execute(\"SELECT * FROM sleepHealth\")\n",
        "  resultados = cursor.fetchall()\n",
        "  conn.close()\n",
        "\n",
        "  dados = []\n",
        "  for linha in resultados:\n",
        "      dados.append({\"id\": linha[0], \"gender\": linha[1], \"age\": linha[2], \"occupation\": linha[3], \"sleepDuration\": linha[4], \"qualitySleep\": linha[5], \"physicalActivityLevel\": linha[6], \"stressLevel\": linha[7], \"BMICategory\": linha[8], \"bloodPressure\": linha[9], \"heartRate\": linha[10], \"dailySteps\": linha[11], \"sleepDisorder\": linha[12]})\n",
        "\n",
        "  return jsonify(dados), 200\n",
        "\n",
        "@app.route('/')\n",
        "def hello_world():\n",
        "    return jsonify({\"message\": \"GS - Computacao neuromorfica\"})\n",
        "\n",
        "@app.route('/api/sleepHealth', methods=['GET'])\n",
        "def getData():\n",
        "    try:\n",
        "      thread = Thread(target=getsleepHealth)\n",
        "      thread.start()\n",
        "\n",
        "      thread.join()\n",
        "\n",
        "      return getsleepHealth()\n",
        "\n",
        "    except Exception as e:\n",
        "        return jsonify({\"erro\": str(e)}), 400\n",
        "\n",
        "@app.route('/api/sleepHealth', methods=['POST'])\n",
        "def createData():\n",
        "    try:\n",
        "        gender = request.json['gender']\n",
        "        age = request.json['age']\n",
        "        occupation = request.json['occupation']\n",
        "        sleepDuration = request.json['sleepDuration']\n",
        "        qualitySleep = request.json['qualitySleep']\n",
        "        physicalActivityLevel = request.json['physicalActivityLevel']\n",
        "        stressLevel = request.json['stressLevel']\n",
        "        BMICategory = request.json['BMICategory']\n",
        "        bloodPressure = request.json['bloodPressure']\n",
        "        heartRate = request.json['heartRate']\n",
        "        dailySteps = request.json['dailySteps']\n",
        "        sleepDisorder = request.json['sleepDisorder']\n",
        "\n",
        "        conn = sqlite3.connect(db_path)\n",
        "        conn.execute('INSERT INTO sleepHealth (gender, age, occupation, sleepDuration, qualitySleep, physicalActivityLevel, stressLevel, BMICategory, bloodPressure, heartRate, dailySteps, sleepDisorder) VALUES (?, ?, ?, ?, ?, ?, ?, ?, ?, ?, ?, ?)', (gender, age, occupation, sleepDuration, qualitySleep, physicalActivityLevel, stressLevel, BMICategory, bloodPressure, heartRate, dailySteps, sleepDisorder))\n",
        "        conn.commit()\n",
        "        conn.close()\n",
        "\n",
        "        return jsonify({\"mensagem\": \"Dado criado com sucesso!\"}), 200\n",
        "\n",
        "    except Exception as e:\n",
        "        return jsonify({\"erro\": str(e)}), 400\n",
        "\n",
        "if __name__ == '__main__':\n",
        "    app.run()"
      ],
      "metadata": {
        "id": "O7b7SOtkG3wd",
        "colab": {
          "base_uri": "https://localhost:8080/"
        },
        "outputId": "71137c6a-aec2-4947-ba52-42651bdf1365"
      },
      "execution_count": null,
      "outputs": [
        {
          "output_type": "stream",
          "name": "stdout",
          "text": [
            " * Serving Flask app '__main__'\n",
            " * Debug mode: off\n"
          ]
        },
        {
          "output_type": "stream",
          "name": "stderr",
          "text": [
            "INFO:werkzeug:\u001b[31m\u001b[1mWARNING: This is a development server. Do not use it in a production deployment. Use a production WSGI server instead.\u001b[0m\n",
            " * Running on http://127.0.0.1:5000\n",
            "INFO:werkzeug:\u001b[33mPress CTRL+C to quit\u001b[0m\n"
          ]
        },
        {
          "output_type": "stream",
          "name": "stdout",
          "text": [
            " * Running on http://f2e6-34-125-164-93.ngrok.io\n",
            " * Traffic stats available on http://127.0.0.1:4040\n"
          ]
        }
      ]
    }
  ]
}